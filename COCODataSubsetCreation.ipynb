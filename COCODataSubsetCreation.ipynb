{
 "cells": [
  {
   "cell_type": "code",
   "execution_count": null,
   "id": "mr1bZIui6dYF",
   "metadata": {
    "colab": {
     "base_uri": "https://localhost:8080/"
    },
    "executionInfo": {
     "elapsed": 861,
     "status": "ok",
     "timestamp": 1682192605696,
     "user": {
      "displayName": "RUTHVIKA REDDY LOKA",
      "userId": "05138975026749329037"
     },
     "user_tz": 300
    },
    "id": "mr1bZIui6dYF",
    "outputId": "3fd22634-7764-4c69-f9c9-5642c7d988ed"
   },
   "outputs": [
    {
     "name": "stdout",
     "output_type": "stream",
     "text": [
      "Drive already mounted at /content/drive; to attempt to forcibly remount, call drive.mount(\"/content/drive\", force_remount=True).\n"
     ]
    }
   ],
   "source": [
    "from google.colab import drive\n",
    "drive.mount('/content/drive')"
   ]
  },
  {
   "cell_type": "code",
   "execution_count": null,
   "id": "wUgKbkA36qAM",
   "metadata": {
    "id": "wUgKbkA36qAM"
   },
   "outputs": [],
   "source": [
    "# First, install the COCO API using the command: pip install pycocotools\n",
    "from pycocotools.coco import COCO\n",
    "import requests\n",
    "import os"
   ]
  },
  {
   "cell_type": "markdown",
   "id": "z9wffblvz8G7",
   "metadata": {
    "id": "z9wffblvz8G7"
   },
   "source": [
    "#Code to get all images from Validation dataset"
   ]
  },
  {
   "cell_type": "code",
   "execution_count": 71,
   "id": "qGh3Suhb9gTx",
   "metadata": {
    "colab": {
     "base_uri": "https://localhost:8080/"
    },
    "executionInfo": {
     "elapsed": 327215,
     "status": "ok",
     "timestamp": 1682197785798,
     "user": {
      "displayName": "RUTHVIKA REDDY LOKA",
      "userId": "05138975026749329037"
     },
     "user_tz": 300
    },
    "id": "qGh3Suhb9gTx",
    "outputId": "2faf49c5-2ff3-413f-ba0d-40896013f7c1"
   },
   "outputs": [
    {
     "name": "stdout",
     "output_type": "stream",
     "text": [
      "loading annotations into memory...\n",
      "Done (t=0.64s)\n",
      "creating index...\n",
      "index created!\n"
     ]
    }
   ],
   "source": [
    "dataType = 'val2017'\n",
    "# Initialize the COCO API for the validation set\n",
    "dataDir = '/content/drive/MyDrive/CV_Project/Dataset'\n",
    "# Initialize the COCO API for the validation set\n",
    "coco = COCO('/content/drive/MyDrive/CV_Project/Dataset/annotations/instances_val2017.json')\n",
    "labels = ['airplane', 'bicycle', 'boat', 'bus', 'car', 'dog', 'motorcycle', 'person', 'train', 'truck']\n",
    "for label in labels:\n",
    "  # Get the category ID for the current label\n",
    "  catIds = coco.getCatIds(catNms=[label])\n",
    "  # Get the image IDs for all images with the current label\n",
    "  imgIds = coco.getImgIds(catIds=catIds)\n",
    "  # Create the folder for the current label if it doesn't exist\n",
    "  if not os.path.exists(os.path.join(dataDir, dataType, label)):\n",
    "    os.makedirs(os.path.join(dataDir, dataType, label))\n",
    "  # Download the first 100 images with the current label and save them to the folder\n",
    "  counter = 0\n",
    "  for imgId in imgIds:\n",
    "    img = coco.loadImgs(imgId)[0]\n",
    "    img_data = requests.get(img['coco_url']).content\n",
    "    with open(os.path.join(dataDir, dataType, label, img['file_name']), 'wb') as handler:\n",
    "      handler.write(img_data)\n",
    "    counter += 1\n",
    "    if counter == 100:\n",
    "      break\n"
   ]
  },
  {
   "cell_type": "markdown",
   "id": "hmOab3nnzlIr",
   "metadata": {
    "id": "hmOab3nnzlIr"
   },
   "source": [
    "#Code to get all images from Training dataset"
   ]
  },
  {
   "cell_type": "code",
   "execution_count": null,
   "id": "DtC7ZZw0zrGZ",
   "metadata": {
    "id": "DtC7ZZw0zrGZ"
   },
   "outputs": [],
   "source": [
    "dataType = 'train2017'\n",
    "# Initialize the COCO API for the validation set\n",
    "dataDir = '/content/drive/MyDrive/CV_Project/Dataset'\n",
    "# Initialize the COCO API for the validation set\n",
    "coco = COCO('/content/drive/MyDrive/CV_Project/Dataset/annotations/instances_train2017.json')\n",
    "labels = ['airplane', 'bicycle', 'boat', 'bus', 'car', 'dog', 'motorcycle', 'person', 'train', 'truck']\n",
    "for label in labels:\n",
    "  # Get the category ID for the current label\n",
    "  catIds = coco.getCatIds(catNms=[label])\n",
    "  # Get the image IDs for all images with the current label\n",
    "  imgIds = coco.getImgIds(catIds=catIds)\n",
    "  # Create the folder for the current label if it doesn't exist\n",
    "  if not os.path.exists(os.path.join(dataDir, dataType, label)):\n",
    "    os.makedirs(os.path.join(dataDir, dataType, label))\n",
    "  # Download the first 100 images with the current label and save them to the folder\n",
    "  counter = 0\n",
    "  for imgId in imgIds:\n",
    "    img = coco.loadImgs(imgId)[0]\n",
    "    img_data = requests.get(img['coco_url']).content\n",
    "    with open(os.path.join(dataDir, dataType, label, img['file_name']), 'wb') as handler:\n",
    "      handler.write(img_data)\n",
    "    counter += 1\n",
    "    if counter == 100:\n",
    "      break"
   ]
  }
 ],
 "metadata": {
  "colab": {
   "provenance": []
  },
  "kernelspec": {
   "display_name": "Python 3 (ipykernel)",
   "language": "python",
   "name": "python3"
  },
  "language_info": {
   "codemirror_mode": {
    "name": "ipython",
    "version": 3
   },
   "file_extension": ".py",
   "mimetype": "text/x-python",
   "name": "python",
   "nbconvert_exporter": "python",
   "pygments_lexer": "ipython3",
   "version": "3.9.12"
  }
 },
 "nbformat": 4,
 "nbformat_minor": 5
}
